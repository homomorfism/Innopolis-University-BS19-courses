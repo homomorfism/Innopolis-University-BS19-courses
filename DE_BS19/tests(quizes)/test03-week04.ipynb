{
 "cells": [
  {
   "cell_type": "markdown",
   "metadata": {
    "collapsed": true,
    "pycharm": {
     "name": "#%% md\n"
    }
   },
   "source": [
    "Solve the Bernoulli equation\n",
    "\n",
    "#### Variant 1\n",
    "\n",
    "$y' + 2y = y^2 e^x$\n",
    "\n",
    "#### Variant 2\n",
    "\n",
    "$xy' + 2y + x^5 y^3 e^x = 0$\n",
    "\n",
    "![v2](test03_v2.png)"
   ]
  }
 ],
 "metadata": {
  "kernelspec": {
   "display_name": "Python 3",
   "language": "python",
   "name": "python3"
  },
  "language_info": {
   "codemirror_mode": {
    "name": "ipython",
    "version": 2
   },
   "file_extension": ".py",
   "mimetype": "text/x-python",
   "name": "python",
   "nbconvert_exporter": "python",
   "pygments_lexer": "ipython2",
   "version": "2.7.6"
  }
 },
 "nbformat": 4,
 "nbformat_minor": 0
}