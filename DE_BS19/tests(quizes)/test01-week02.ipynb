{
 "cells": [
  {
   "cell_type": "markdown",
   "metadata": {
    "collapsed": true,
    "pycharm": {
     "name": "#%% md\n"
    }
   },
   "source": [
    "Solve initial value problem\n",
    "\n",
    "#### Variant 1\n",
    "\n",
    "$\n",
    "\\begin{cases}\n",
    "\tx y' + y = y^2 \\\\\n",
    "\ty(1) = \\frac{1}{2}\n",
    "\\end{cases}\n",
    "$\n",
    "\n",
    "To be added)\n",
    "\n",
    "#### Variant 2\n",
    "\n",
    "$\n",
    "\\begin{cases}\n",
    "\ty' \\ctg x + y = 2 \\\\\n",
    "\t\\lim_{x\\to\\0} y(x) = -1\n",
    "\\end{cases}\n",
    "$\n",
    "\n",
    "![var2](test01_v2.png)\n",
    "\n",
    "\n",
    "\n",
    "\n",
    "\n",
    "\n"
   ]
  }
 ],
 "metadata": {
  "kernelspec": {
   "display_name": "Python 3",
   "language": "python",
   "name": "python3"
  },
  "language_info": {
   "codemirror_mode": {
    "name": "ipython",
    "version": 2
   },
   "file_extension": ".py",
   "mimetype": "text/x-python",
   "name": "python",
   "nbconvert_exporter": "python",
   "pygments_lexer": "ipython2",
   "version": "2.7.6"
  }
 },
 "nbformat": 4,
 "nbformat_minor": 0
}