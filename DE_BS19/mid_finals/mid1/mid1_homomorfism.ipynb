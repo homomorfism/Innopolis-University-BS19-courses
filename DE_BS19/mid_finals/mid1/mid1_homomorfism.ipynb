{
 "cells": [
  {
   "cell_type": "markdown",
   "metadata": {
    "collapsed": true,
    "pycharm": {
     "name": "#%% md\n"
    }
   },
   "source": [
    "**DE midterm 1**"
   ]
  },
  {
   "cell_type": "markdown",
   "source": [
    "## Problem 1\n",
    "Find the general solution of given differential equation $14x^{2} + 2y^{2}+2001xyy' = 0$ __(1)__\n"
   ],
   "metadata": {
    "collapsed": false,
    "pycharm": {
     "name": "#%% md\n"
    }
   }
  },
  {
   "cell_type": "markdown",
   "source": [
    "#### Solution\n",
    "\n",
    "This is first-order ordinary differential equations, in particular, Bernoulli equation. We introduce new variable $z = y^{2}, z' = 2yy', y' = \\frac {z'} {2y} $ (y = 0 is not a solution by substituting it in __(1)__ ).\n",
    "\n",
    "$14x^{2} + 2z + {\\frac{2001}{2}} x z' = 0$\n",
    "\n",
    "$z' + \\frac{4}{2001x} z = - \\frac{28}{2001} x $ __(2)__\n",
    "\n",
    "Let's find particular solution $z_p$ of __(2)__:\n",
    "\n",
    "$\n",
    "\\begin{gather*}\n",
    "z_p' + \\frac{4}{2001x} z_p = 0 \\\\\n",
    "\\int \\frac{dz_p}{z_p} = - \\frac{4}{2001} \\int \\frac{dx}{x} \\\\\n",
    "\\ln|z_p| = - \\frac{4}{2001} ln|x| + H \\\\\n",
    "z_p = H x^{- \\frac{4}{2001}} \\Rightarrow z = H(x)  x^{- \\frac{4}{2001}} \\\\\n",
    "z' = H'(x) x^{- \\frac{4}{2001}} - \\frac{4}{2001} H(x) x^{- \\frac{2005}{2001}}\n",
    "\\end{gather*}\n",
    "$\n",
    "\n",
    "Let's substitute $z$ and $z'$ in __(2)__:\n",
    "\n",
    "$\n",
    "\\begin{gather*}\n",
    "14x^{2} + 2  H(x)  x^{- \\frac{4}{2001} } + \\frac{2001}{2} x ( H'(x)    x^{- \\frac{4}{2001} } + H(x)   x^{- \\frac{2005}{2001} }   ( {- \\frac{4}{2001} })) = 0  \\\\\n",
    "14   x^{2} + \\frac{2001}{2}   H'(x)   x^{ \\frac{1997}{2001} } = 0 \\\\\n",
    "H'(x) = - \\frac{28}{2001}   x^{ \\frac{2005}{2001} } \\Rightarrow \\\n",
    "H(x) = - \\frac{14}{2003}   x^{ \\frac{4006}{2001} } + C\n",
    "\\end{gather*}\n",
    "$\n",
    "\n",
    "Where C is some constant. Then, final solution is:\n",
    "\n",
    "$\n",
    "\\begin{gather*}\n",
    "z = y^{2} = (- \\frac{14}{2003}   x^{ \\frac{4006}{2001} } + C)   x^{- \\frac{4}{2001}} =\n",
    "\\frac {\\frac{C}{x^{ \\frac{4}{2001}}} - 14   x^{2} }{2003} \\\\\n",
    "y = \\pm \\sqrt{\\frac {\\frac{C}{x^{ \\frac{4}{2001}}} - 14   x^{2} }{2003}}\n",
    "\\end{gather*}\n",
    "$"
   ],
   "metadata": {
    "collapsed": false
   }
  },
  {
   "cell_type": "markdown",
   "source": [
    "#### Feedback\n",
    "\n",
    "5 points\n",
    "\n",
    ">This is first-order ordinary differential equations, in particular, Bernoulli equation.\n",
    "\n",
    "That may be transformed into Bernoulli equation (but on some cost) as well as to a non-linear equation with homogeneous terms.\n",
    "\n",
    "> $y' = \\frac {z'} {2y} $ (y = 0 is not a solution by substituting it in __(1)__ ).\n",
    "\n",
    "What if y=0? (he meaned we should explicitly write if $y = 0$ then $14x^{2}= 0$, then $x = 0$, but the solution to DE is curve, but not point, so $x = 0, y = 0$ is not a solution to initial problem).\n",
    "\n",
    "> $z_p' + \\frac{4}{2001x} z_p = 0 $\n",
    ">\n",
    "> $\\int \\frac{dz_p}{z_p} = - \\frac{4}{2001} \\int \\frac{dx}{x} $ ...\n",
    "\n",
    "How do all these equations relate to each other?\n",
    "\n",
    "> $y = \\pm \\sqrt{\\frac {\\frac{C}{x^{ \\frac{4}{2001}}} - 14   x^{2} }{2003}}$\n",
    "\n",
    "What are the range of the variable x and legal values for the parameter C?\n"
   ],
   "metadata": {
    "collapsed": false
   }
  },
  {
   "cell_type": "markdown",
   "source": [
    "## Problem 2\n",
    "\n",
    "Find the general solution of given differential equation:\n",
    "$dy - y(14 + xy^{2})dx = 0$ __(3)__\n"
   ],
   "metadata": {
    "collapsed": false,
    "pycharm": {
     "name": "#%% md\n"
    }
   }
  },
  {
   "cell_type": "markdown",
   "source": [
    "#### Solution\n",
    "\n",
    "Let's rearrange terms\n",
    "\n",
    "$\n",
    "\\begin{gather*}\n",
    "y' - 14   y = x   y^{3} \\\\\n",
    "y^{-3}   y' - 14   y^{-2} = x\n",
    "\\end{gather*}\n",
    "$\n",
    "\n",
    "This is first-order ordinary differential equation, Bernoulli equation, let's introduce substitution $z = y^{-2}, z' = -2   y^{-3}   y'$ (y = 0 is also a solution by substituting it in __(3)__ ).\n",
    "\n",
    "$\n",
    "-\\frac{1}{2} z' - 14  z = x\n",
    "$\n",
    "\n",
    "$\n",
    "z' + 28   z = - 2 x\n",
    "$ __(4)__\n",
    "\n",
    "Let's find particular solution $z_p$ of __(4)__:\n",
    "\n",
    "$\n",
    "\\begin{gather*}\n",
    "z_p' + 28   z_p = 0 \\\\\n",
    "\\int \\frac{dz_p}{z_p} = - 28 \\int dx \\\\\n",
    "ln|z_p| = - 28   x + H \\\\\n",
    "z_p = H   e^{-28   x} \\Rightarrow z =  H(x)   e^{-28   x} \\\\\n",
    "z' = H'(x)   e^{-28   x} - 28   H(x)   e^{-28   x}\n",
    "\\end{gather*}\n",
    "$\n",
    "\n",
    "Let's substitute $z$ and $z'$ in __(4)__:\n",
    "\n",
    "$\n",
    "\\begin{gather*}\n",
    "H'(x)   e^{-28   x} - 28   H(x)   e^{-28   x} + 28   H(x)   e^{-28   x} = - 2   x \\\\\n",
    "H'(x) = - 2   x   e^{28   x}\\\\\n",
    "H(x) = -2 \\int x   e^{28   x}   dx = - \\frac{1}{14} \\int x d(e^{28   x}) = - \\frac{1}{14} (x   e^{28   x} - \\int e^{28   x}   dx) \\\\= - \\frac{1}{14} (x    e^{28   x} - \\frac{1}{28}  e^{28   x} ) + C\n",
    "\\end{gather*}\n",
    "$\n",
    "\n",
    "Where C is some constant. Final answer:\n",
    "\n",
    "\n",
    "$\n",
    "z = y^{-2} = ( - \\frac{1}{14} (x    e^{28   x} - \\frac{1}{28}  e^{28   x} ) + C)   e^{- 28   x} \\frac{1}{392}(1 - 28   x) + C   e^{ - 28   x}\n",
    "$\n",
    "\n",
    "$\n",
    "\\begin{cases}\n",
    "y = (\n",
    "\t\\frac{1}{392}(1 - 28   x) + C   e^{ - 28   x}\n",
    ")^{- \\frac{1}{2}}\\\\\n",
    " y = 0\n",
    "\\end{cases}\n",
    "$"
   ],
   "metadata": {
    "collapsed": false,
    "pycharm": {
     "name": "#%% md\n"
    }
   }
  },
  {
   "cell_type": "markdown",
   "source": [
    "#### Feedback\n",
    "\n",
    "5 points\n",
    "\n",
    "> $z = y^{-2}, z' = -2   y^{-3} \\cdot  y'$ (y = 0 is also a solution by substituting it in (3) )\n",
    "\n",
    "What if y=0?\n",
    "\n",
    "> $z_p = H   e^{-28   x} \\Rightarrow z =  H(x)   e^{-28   x}$\n",
    "\n",
    "A constant above becomes a function below. - Why?\n",
    "\n",
    "> $y = \\frac{1}{392}(1 - 28   x) + C   e^{ - 28   x}\n",
    ")^{- \\frac{1}{2}}$\n",
    "\n",
    "What are the range of the variable x and legal values for the parameter C?\n"
   ],
   "metadata": {
    "collapsed": false
   }
  }
 ],
 "metadata": {
  "kernelspec": {
   "display_name": "Python 3",
   "language": "python",
   "name": "python3"
  },
  "language_info": {
   "codemirror_mode": {
    "name": "ipython",
    "version": 2
   },
   "file_extension": ".py",
   "mimetype": "text/x-python",
   "name": "python",
   "nbconvert_exporter": "python",
   "pygments_lexer": "ipython2",
   "version": "2.7.6"
  }
 },
 "nbformat": 4,
 "nbformat_minor": 0
}