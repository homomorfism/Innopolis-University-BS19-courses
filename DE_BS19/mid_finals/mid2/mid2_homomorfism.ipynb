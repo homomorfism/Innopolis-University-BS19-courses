{
 "cells": [
  {
   "cell_type": "markdown",
   "metadata": {
    "collapsed": true,
    "pycharm": {
     "name": "#%% md\n"
    }
   },
   "source": [
    "**DE midterm 2**"
   ]
  },
  {
   "cell_type": "markdown",
   "source": [
    "## Problem 1\n",
    "\n",
    "Characterize equation $ y'' y' = \\frac{1}{2} $ __(1)__ in terms introduced in lectures for weeks 1-3 and 8-9. Since it matches two patterns for order reduction, solve the following initial value problem\n",
    "\\begin{cases}\n",
    "\ty(1) = 14 \\\\\n",
    "\ty'(1) = 2\n",
    "\\end{cases}\n",
    "for this equation using any of these two methods that guarantees uniqueness of the solution; use any of these method if you cannot guaranty uniqueness of the\n",
    "solution but declare it explicitly. The solution process must be explained!\n"
   ],
   "metadata": {
    "collapsed": false,
    "pycharm": {
     "name": "#%% md\n"
    }
   }
  },
  {
   "cell_type": "markdown",
   "source": [
    "#### Solution\n",
    "\n",
    "This is second-order ordinary differential equation. Let's make a substitution $y'_x = p(x)$, then $y''_{xx} = p'_x$ and substitute it into __(1)__.\n",
    "\n",
    "\\begin{gather*}\n",
    "\tp'_x  p = \\frac{1}{2} \\\\\n",
    "\t\\frac{dp}{dx}  p = \\frac{1}{2} \\\\\n",
    "\t2 p dp =  dx \\\\\n",
    "\\end{gather*}\n",
    "\n",
    "By integrating both parts we obtain\n",
    "\n",
    "\\begin{gather*}\n",
    "\t2 \\int p dp = \\int dx \\\\\n",
    "\tp^2 = x + C_1 \\\\\n",
    "\t(y'_x)^2 = x + C_1\n",
    "\\end{gather*}\n",
    "\n",
    "Now if we take a square root of $y'_x$, we will have 2 solutions:\n",
    "\n",
    "\\begin{gather*}\n",
    "\t\\frac{dy}{dx} = \\sqrt{x + C_1} (x \\geq -C_1) \\\\\n",
    "\t\\frac{dy}{dx} = - \\sqrt{x + C_1} (x \\geq -C_1)\n",
    "\\end{gather*}\n",
    "\n",
    "If we substitute $y'(1)=2$ into  $\\frac{dy}{dx} = - \\sqrt{x + C_1} (x \\geq -C_1)$ the equation won't satisfy initial condition:\n",
    "\n",
    "\\begin{gather*}\n",
    "\t2 = - \\sqrt{1 + C_1}\n",
    "\\end{gather*}\n",
    "\n",
    "So, this equation is not a solution to initial value problem to __(1)__. Let's find $C_1$ by substituting values of $x$ and $y'_x$ into the $\\frac{dy}{dx} = \\sqrt{x +  C_1} (x \\geq  - C_1)$:\n",
    "\n",
    "\\begin{gather*}\n",
    "\t2 = \\sqrt{1 + C_1} \\\\\n",
    "\tC_1 = 3\n",
    "\\end{gather*}\n",
    "\n",
    "So, the equation will be $\\frac{dy}{dx} = \\sqrt{x + 3} (x \\geq -3)$, if we differentiate it we obtain $\\frac{d^2 y}{dx^2} = \\frac{1}{2 \\sqrt{x + 3}}$, the second derivative is discontinuous at point $x = -3$, that's why $x > -3$ strictly. \\\\\n",
    "Let's solve $\\frac{dy}{dx} = \\sqrt{x + 3} (x > -3)$ and find solution to Cauchy problem:\n",
    "\n",
    "\\begin{gather*}\n",
    "\t\\frac{dy}{dx} = \\sqrt{x + 3} \\\\\n",
    "\tdy = \\sqrt{x + 3} dx\n",
    "\\end{gather*}\n",
    "\n",
    "By integrating both parts we obtain\n",
    "\n",
    "\\begin{gather*}\n",
    "\ty = \\frac{2}{3} (x + 3)^{\\frac{3}{2}} + C_2\n",
    "\\end{gather*}\n",
    "\n",
    "Let's find $C_2$ by substituting values of $x$ and $y$:\n",
    "\n",
    "\\begin{gather*}\n",
    "\t14 = \\frac{2}{3} 4^{\\frac{3}{2}} + C_2 \\\\\n",
    "\t14 = \\frac{16}{3} + C_2\\\\\n",
    "\tC_2 = \\frac{26}{3}\n",
    "\\end{gather*}\n",
    "\n",
    "So, the solution to __(1)__ is\n",
    "$\n",
    "y = \\frac{2}{3} (x + 3)^{\\frac{3}{2}} + \\frac{26}{3}\n",
    "$, where $(x > -3)$\n",
    "Also, this solution is unique, because on each step we made equivalent transformation(when we made non equivalent transformation, e.x. taking square root, we have checked that we did not lose or received redundant solutions)."
   ],
   "metadata": {
    "collapsed": false
   }
  },
  {
   "cell_type": "markdown",
   "source": [
    "#### Feedback\n",
    "\n",
    "10 points\n",
    "\n",
    "> So, the solution to __(1)__ is ...\n",
    "\n",
    "Please use stricture headings  like \"Answer\"."
   ],
   "metadata": {
    "collapsed": false
   }
  },
  {
   "cell_type": "markdown",
   "source": [
    "#### Problem 2\n",
    "\n",
    "\n",
    "Characterize equation\n",
    "\\begin{equation}\n",
    "\ty'' + 2 y' - 14y = 0\n",
    "\\end{equation} __(2)__\n",
    "in terms introduced in lectures for weeks\n",
    "1-3 and 8-9. Solve the equation analytically, i.e. find a solution as general as you can (i.e. if it is the most general then your solution must prove it explicitly). The solution process must be\n",
    "explained!"
   ],
   "metadata": {
    "collapsed": false,
    "pycharm": {
     "name": "#%% md\n"
    }
   }
  },
  {
   "cell_type": "markdown",
   "source": [
    "#### Solution\n",
    "\n",
    "This is second order homogeneous linear differential equation with constant coefficients. According to slide 22 of the presentation \"Lecture notes (week 8 and 9)\", if every initial value problem with this equation has unique solution and if we will find any two (y1 and y2) partial solutions of the equation, then we could state that $y = C_1 y_1 + C_2 y_2$ is the most general solution of __(2)__.\n",
    "\tLet's find $y_1$ and $y_2$ in the form $y = e^{ax}$:\n",
    "\n",
    "$$(e^{ax})'' + 2 (e^{ax})' - 14 e^{ax} = 0$$\n",
    "$$a^2 e^{ax} + 2 a e^{ax} - 14 e^{ax} = 0$$\n",
    "Let's divide by $e^{ax}$, because $e^{ax} > 0$.\n",
    "\n",
    "$$a^2 + 2a - 14 = 0$$\n",
    "$$a_1 = -1 + \\sqrt{15}$$\n",
    "$$a_2 = -1 - \\sqrt{15}$$\n",
    "\n",
    "So, $y_1 = e^{a_1 x}$ and $y_2 = e^{a_2 x}$ are partial solutions to __(2)__. Let's prove that they are linear independent by contradiction: let's assume, that they are linear dependent, so, there exist $C_1$ and $C_2 (C_1 * C_2 \\neq 0)$ so that  $C_1 y1 = e^{a_1 x} + C_2 e^{a_2 x} = 0$. Let's assume, that $C_1 \\neq 0$ (if $C_1 = 0$, then $C_2 \\neq 0$ and we need to swap $C_1$ and $C_2$):\n",
    "$$C_1 e^{a_1 x} + C_2 e^{a_2 x} = 0$$\n",
    "$$C_1 e^{a_1 x} = - C_2 e^{a_2 x}$$\n",
    "\n",
    "Let's multiply both parts by $\\frac{1}{C_1 e^{a_2 x}}$, we can do it, because $e^{a_1 x} > 0$.\n",
    "\n",
    "\\begin{equation}\n",
    "\te^{(a_1 - a_2)x} = - \\frac{C_2} {C_1}\n",
    "\\end{equation}\n",
    "\n",
    "Now, left part is a function of $x$ (in particular, $ a_1 - a_2 = 2 \\sqrt{15} \\neq 0$) and right part is constant, so the equation down not hold for all values of $x$, that's why our assumption that $y_1$ and $y_2$ are linear dependent does not hold, that why $y_1$ and $y_2$ are linear independent.\n",
    "To prove that for each initial value the solution is unique let's apply Cauchy theorem:\n",
    "$$y'' = -2y' + 14y = (14 - 2 a_1) C_1 e^{a_1 x} + (14 - 2 a_2) C_2 e^{a_2 x}$$\n",
    "The right part and it's partial derivatives are continuous on $R^2$ (sum of exponents is continuous, and partial derivatives of sum of exponents are also sum of exponents, thus, they are also continuous), that's why for every initial value problem the solution is unique. So, according to theorem on slides, $y = C_1 y_1 + C_2 y_2 =  C_1 e^{(-1 + \\sqrt{15})x} + C_2 e^{(-1 - \\sqrt{15})x}$ , where $C_1 \\in R, C_2 \\in R, x \\in R$ is the most general solution of __(2)__.  Proven."
   ],
   "metadata": {
    "collapsed": false,
    "pycharm": {
     "name": "#%% md\n"
    }
   }
  },
  {
   "cell_type": "markdown",
   "source": [
    "#### Feedback\n",
    "\n",
    "7 points\n",
    "\n",
    ">  To prove that for each initial value the solution is unique let's apply Cauchy theorem...\n",
    "\n",
    "Which Cauchy Theorem?\n",
    "\n",
    "> that's why for every initial value problem the solution is unique.\n",
    "\n",
    "I do not understand why the solution is unique.\n",
    "\n",
    "> _End of work_\n",
    "\n",
    "Where is the answer?"
   ],
   "metadata": {
    "collapsed": false,
    "pycharm": {
     "name": "#%% md\n"
    }
   }
  }
 ],
 "metadata": {
  "kernelspec": {
   "display_name": "Python 3",
   "language": "python",
   "name": "python3"
  },
  "language_info": {
   "codemirror_mode": {
    "name": "ipython",
    "version": 2
   },
   "file_extension": ".py",
   "mimetype": "text/x-python",
   "name": "python",
   "nbconvert_exporter": "python",
   "pygments_lexer": "ipython2",
   "version": "2.7.6"
  }
 },
 "nbformat": 4,
 "nbformat_minor": 0
}