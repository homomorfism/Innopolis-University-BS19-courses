{
 "cells": [
  {
   "cell_type": "markdown",
   "source": [
    "**DE final examination**\n"
   ],
   "metadata": {
    "collapsed": false
   }
  },
  {
   "cell_type": "markdown",
   "source": [
    "## Problem 1\n",
    "Is function $e^{t^{-12}}$ on $[0, \\infty)$ a piece-with continuous? Does it have exponential order? Where (i.e. for what real $s$ in $[0, \\infty)$ you can guarantee that $L(e^{t^{-12}})$ the Laplace transform is defined? – Your answer must be proven and explained!"
   ],
   "metadata": {
    "collapsed": false,
    "pycharm": {
     "name": "#%% md\n"
    }
   }
  },
  {
   "cell_type": "markdown",
   "source": [
    "#### Solution\n",
    "\n",
    "The definitions were taken from book (http://ramanujan.math.trinity.edu/wtrench/texts/TRENCH_FREE_DIFFEQ_I.PDF)\n",
    "\n",
    ">By definition, a function $f$ is said to be piece wise continuous on a finite closed interval $[0, \\infty)$ if $f(+0)$ and $f(\\infty)$ are finite and $f$ is continuous on the open interval $(0, \\infty)$ except possibly at finitely many points, where $f$ may have jump discontinuities or removable discontinuities.\n",
    "\n",
    "At point $t = 0$ function $e^{t^{-12}}$ has discontinuity of second type, the function is not defined at this point, that is why the function is not piece-wise continuous at $[0, \\infty)$.\n",
    "\n",
    ">By definition, a function $f$ is said to be of exponential order $s_0$ if there exists constants $M$ and $t_0$ such that $|f(t)| \\leq M e^{s_0 t}$, $(t \\geq t_0)$. In situations where the specific value of $s_0$ is irrelevant we say simply that $f$ is of exponential order.\n",
    "\n",
    "Let $s_0 = 1, M = e, t_0 = 1$, then $\\forall t \\geq 1$:\n",
    "\n",
    "$\\frac{e^{t^{-12}}}{e \\cdot e^{1 t}} \\leq \\frac{e^{1}}{e \\cdot e^{t}} = e^{-t} \\leq 1$\n",
    "\n",
    "So, $e^{t^{-12}} \\leq M e^{s_0 t}$, $t \\geq t_0$ and we can guarantee that $e^{t^{-12}}$ has an exponential order of $s_0 = 1$."
   ],
   "metadata": {
    "collapsed": false,
    "pycharm": {
     "name": "#%% md\n"
    }
   }
  },
  {
   "cell_type": "markdown",
   "source": [
    "#### Feedback\n",
    "3 out of 10 points, solved only the first 2 simplest questions"
   ],
   "metadata": {
    "collapsed": false,
    "pycharm": {
     "name": "#%% md\n"
    }
   }
  },
  {
   "cell_type": "markdown",
   "source": [
    "## Problem 2\n",
    "Solve (using elimination) the following system:\n",
    "$\n",
    "\\begin{cases}\n",
    "  y_1' = y_1 - y_2 \\\\\n",
    "  y_2' = 14 y_1 + 2 y_2\n",
    "\\end{cases}\n",
    "$\n",
    "\n",
    "– Do not forget to prove the your solution is the most general!"
   ],
   "metadata": {
    "collapsed": false,
    "pycharm": {
     "name": "#%% md\n"
    }
   }
  },
  {
   "cell_type": "markdown",
   "source": [
    "#### Solution\n",
    "\n",
    "1. Differentiate the first equation (for $y_1'$) and instantiate $y_2'$ to it:\n",
    "\n",
    "$\n",
    "\\begin{cases}\n",
    "\ty_1'' = y_1' - y_2' \\\\\n",
    "\ty_2' = 14 y_1 + 2y_2\n",
    "\\end{cases}\n",
    "\\implies y_1'' = y_1' - 14y_1 - 2y_2\n",
    "$\n",
    "\n",
    "\n",
    "2. Express $y_2$ from the first equation $y_2 = y_1 - y_1'$ and substitute it into the last equation:\n",
    "\n",
    "$y_1'' = y_1' - 14 y_1 - 2 y_1 + 2 y_1'$\n",
    "\n",
    "$y_1'' - 3 y_1' + 16 y_1 = 0 $ __(1)__\n",
    "\n",
    "3. Let's find partial solutions of __(1)__ in form $y = e^{a x}$\n",
    "\n",
    "$ a^2 e^{ax} - 3 e^{ax} + 16 a e^{ax} = 0$\n",
    "\n",
    "$ a^2 - 3a + 16 = 0 $\n",
    "\n",
    "$ a_{1,2} = \\frac{3 \\pm \\sqrt{9 - 64} }{2} = \\frac{3}{2}\\pm i \\frac{\\sqrt 55}{2 }$\n",
    "\n",
    "4. So, according to slide 32 (week 8-9) the most general solution to __(1)__ is represented in this form:\n",
    "\n",
    "$ y_1 = C e^{\\frac{3}{2} x} \\sin{(\\frac{\\sqrt 55}{2} x)} + D e^{\\frac{3}{2} x} \\cos{(\\frac{\\sqrt 55}{2} x)} = C \\cdot g + D \\cdot h \\text{, where $x \\in \\mathbb{R}; C, D \\in \\mathbb{R}$} $ __(2)__\n",
    ", here $ g = e^{\\frac{3}{2} x} \\sin{\\frac{\\sqrt 55}{2} x}$, $h = e^{\\frac{3}{2} x} \\cos{\\frac{\\sqrt 55}{2} x}$.\n",
    "\n",
    "5. According to this slide 10 (https://moodle.innopolis.university/pluginfile.php/100777/mod_resource/content/1/ODEw14fall20.pdf), $y_2$ is expressed in this form:\n",
    "\n",
    "  $\n",
    "  \\begin{align*}\n",
    "      y_2 &= C \\frac{g' - 1 g}{-1} + D \\frac{h' - 1 h}{-1} \\\\\n",
    "      &= C e^{\\frac{3}{2} x}(- \\frac{1}{2} \\sin (\\frac{\\sqrt 55}{2} x) - \\frac{\\sqrt 55}{2} \\cos(\\frac{\\sqrt 55}{2} x) + D e^{\\frac{3}{2} x}(- \\frac{1}{2} \\cos(\\frac{\\sqrt 55}{2} x) + \\frac{\\sqrt 55}{2} \\sin(\\frac{\\sqrt 55}{2} x) \\mbox{  (3) } \\\\\n",
    "      &= (\\frac{\\sqrt 55}{2} D - \\frac{1}{2} C) e^{\\frac{3}{2} x} \\sin{(\\frac{\\sqrt 55}{2} x)} + (- \\frac{\\sqrt 55}{2} C - \\frac{1}{2} D) e^{\\frac{3}{2} x} \\cos{(\\frac{\\sqrt 55}{2} x)} \\text{, where $x \\in \\mathbb{R}; C, D \\in \\mathbb{R}$}\n",
    "  \\end{align*}\n",
    "  $\n",
    "\n",
    "6. So, __(2)__ and __(3)__ are the most general solutions to initial system of linear equations. On each step we make equivalent transformations and also when solving (1) we didn't lose or get any roots, so I could state that $y_1$ and $y_2$ are the most general solutions to initial problem."
   ],
   "metadata": {
    "collapsed": false,
    "pycharm": {
     "name": "#%% md\n"
    }
   }
  },
  {
   "cell_type": "markdown",
   "source": [
    "#### Feedback\n",
    "\n",
    "6 points\n",
    "\n",
    "> Differentiate the first equation (for $y_1'$) ...\n",
    "\n",
    "What if $y_1$ is not twice differentiable?\n",
    "\n",
    "> On  each step we make equivalent transformations ...\n",
    "\n",
    "I do not think so."
   ],
   "metadata": {
    "collapsed": false,
    "pycharm": {
     "name": "#%% md\n"
    }
   }
  }
 ],
 "metadata": {
  "kernelspec": {
   "display_name": "Python 3",
   "language": "python",
   "name": "python3"
  },
  "language_info": {
   "codemirror_mode": {
    "name": "ipython",
    "version": 2
   },
   "file_extension": ".py",
   "mimetype": "text/x-python",
   "name": "python",
   "nbconvert_exporter": "python",
   "pygments_lexer": "ipython2",
   "version": "2.7.6"
  }
 },
 "nbformat": 4,
 "nbformat_minor": 0
}