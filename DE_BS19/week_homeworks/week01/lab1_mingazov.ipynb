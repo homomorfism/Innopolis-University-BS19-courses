{
 "cells": [
  {
   "cell_type": "markdown",
   "metadata": {
    "collapsed": true,
    "pycharm": {
     "name": "#%% md\n"
    }
   },
   "source": [
    "#### Task 1\n",
    "\n",
    "Verify that the function $y(x)$ is a solution of the differential equation on some interval, for any choice of the arbitrary constants appearing in the function.\n",
    "\n",
    "* $y = \\frac{x^2}{3} + \\frac{c}{x} $, $x y' + y = x^2$\n",
    "\n",
    "![task1.1](task1.1.png)\n",
    "\n",
    "* $y = \\frac{1}{2} + c e^{-x^2}$, $y' + 2xy = x$\n",
    "\n",
    "![task1.2](task1.2.png)\n",
    "\n",
    "* $y = \\frac{1 + x e^{-\\frac{x^2}{2}}}{1 - x e^{-\\frac{x^2}{2}}}$, $2y' + x(y^2 - 1) = 0$\n",
    "\n",
    "To be added)\n",
    "\n",
    "* $y = \\tan(\\frac{x^3}{3} + c)$, $y' = x^2 (1 + y^2)$\n",
    "\n",
    "![task1.4](task1.4.png)\n",
    "\n",
    "* $y = x^{ -\\frac{1}{2} } (c_1 \\sin x + c_2 \\cos x )$,\n",
    "$x^2 y'' + x y' + (x^2 - \\frac{1}{4})y = 4x^3 + 8x^2 + 3x - 2$\n"
   ]
  },
  {
   "cell_type": "markdown",
   "source": [
    "#### Task 2\n",
    "\n",
    "Solve the initial value problem.\n",
    "\n",
    "* $y' = -x e^x$, $y(0) = 1$\n",
    "\n",
    "![task2.1](task2.1.png)\n",
    "\n",
    "* $y' = x \\sin x^2$, $y(\\sqrt \\frac{pi}{2}) = 1$\n",
    "\n",
    "![task2.2](task2.2.png)\n",
    "\n",
    "* $y'' = x^4$, $y(2) = -1$, $y'(2) = -1$\n",
    "\n",
    "![task2.3](task2.3.png)\n",
    "\n",
    "* $y''' = 2 + \\sin{2x}$, $y(0) = 1$, $y'(0) = -6$, $y''(0) = 3$\n",
    "\n",
    "![task2.4](task2.4.png)"
   ],
   "metadata": {
    "collapsed": false,
    "pycharm": {
     "name": "#%% md\n"
    }
   }
  }
 ],
 "metadata": {
  "kernelspec": {
   "display_name": "Python 3",
   "language": "python",
   "name": "python3"
  },
  "language_info": {
   "codemirror_mode": {
    "name": "ipython",
    "version": 2
   },
   "file_extension": ".py",
   "mimetype": "text/x-python",
   "name": "python",
   "nbconvert_exporter": "python",
   "pygments_lexer": "ipython2",
   "version": "2.7.6"
  }
 },
 "nbformat": 4,
 "nbformat_minor": 0
}